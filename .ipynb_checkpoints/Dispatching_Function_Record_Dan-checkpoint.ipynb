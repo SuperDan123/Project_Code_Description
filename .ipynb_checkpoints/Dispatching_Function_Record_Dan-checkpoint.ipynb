{
 "cells": [
  {
   "cell_type": "markdown",
   "id": "e328e9bf",
   "metadata": {},
   "source": [
    "# Estimation\n",
    "\n",
    "- `compute_demand_objective`: This function is used to approximate the population moments by sample moments. In this function, the dataframe is to store every equilibrium results under every shock `ea_w` and `ea_f`. Therefore, every t stands for a different market. `component_w` and `component_f` is the sume of xi * x_c across ths. `N_1` stands for the number of ths while `N_2` stands for the number of markets generated.\n"
   ]
  },
  {
   "cell_type": "code",
   "execution_count": null,
   "id": "1d92af95",
   "metadata": {},
   "outputs": [],
   "source": []
  }
 ],
 "metadata": {
  "kernelspec": {
   "display_name": "Python 3 (ipykernel)",
   "language": "python",
   "name": "python3"
  },
  "language_info": {
   "codemirror_mode": {
    "name": "ipython",
    "version": 3
   },
   "file_extension": ".py",
   "mimetype": "text/x-python",
   "name": "python",
   "nbconvert_exporter": "python",
   "pygments_lexer": "ipython3",
   "version": "3.11.5"
  }
 },
 "nbformat": 4,
 "nbformat_minor": 5
}
