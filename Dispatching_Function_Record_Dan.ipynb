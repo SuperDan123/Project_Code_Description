{
 "cells": [
  {
   "cell_type": "markdown",
   "id": "e328e9bf",
   "metadata": {},
   "source": [
    "# Estimation\n",
    "\n",
    "- `compute_demand_shock_a_f_t`: This function is based on the optimization results from firms. It does not relate to the foc for ths\n",
    "\n",
    "- `compute_demand_shock_a_f_t`: This function is based on the optimization results from workers. It does not relate to the foc for ths. The solution of a_w uses the property of contract mapping.\n",
    "\n",
    "- `estimate_demand_shock_t`: This function is used to compute the demand shock ea_w and ea_f as well as linear parameter beta_w and beta_f in market t given certain data\n",
    "\n",
    "- `estimate_demand_shock_residual`: This function estimates demand shock and linear parameters across markets given data\n",
    "\n",
    "- `compute_demand_moment`: It provides the sample moments for demand side. Note that index 1 is not counted\n",
    "\n",
    "- `compute_demand_objective`: This function uses the sample moment to construct the objective function\n",
    "\n",
    "- `compute_supply_shock_c_w_t`: Based on the beta_w and beta_f as well as ea_w and ea_f, compute the supply shock c_w\n",
    "\n",
    "- `compute_supply_shock_c_f_t`: Based on the beta_w and beta_f as well as ea_w, ea_f and c_w, compute the supply shock c_f\n",
    "\n",
    "- `estimate_supply_shock_t`:  This function is used to compute the supply shock ec_w and ec_f as well as linear parameter gamma_w and gamma_f in market t given certain data\n",
    "\n",
    "- `estimate_supply_shock_residual`: This function estimates supply shock and linear parameters across markets given data\n",
    "\n",
    "- `compute_supply_moment`: It provides the sample moments for supply side \n",
    "\n",
    "- `compute_supply_objective`: This function uses the sample moment to construct the objective function\n",
    "\n",
    "\n"
   ]
  },
  {
   "cell_type": "code",
   "execution_count": null,
   "id": "1d92af95",
   "metadata": {},
   "outputs": [],
   "source": []
  },
  {
   "cell_type": "markdown",
   "id": "0fd2d4f5",
   "metadata": {},
   "source": [
    "# Simulation\n",
    "- structure of an equilibrium"
   ]
  }
 ],
 "metadata": {
  "kernelspec": {
   "display_name": "Python 3 (ipykernel)",
   "language": "python",
   "name": "python3"
  },
  "language_info": {
   "codemirror_mode": {
    "name": "ipython",
    "version": 3
   },
   "file_extension": ".py",
   "mimetype": "text/x-python",
   "name": "python",
   "nbconvert_exporter": "python",
   "pygments_lexer": "ipython3",
   "version": "3.11.5"
  }
 },
 "nbformat": 4,
 "nbformat_minor": 5
}
